{
  "nbformat": 4,
  "nbformat_minor": 0,
  "metadata": {
    "colab": {
      "provenance": []
    },
    "kernelspec": {
      "name": "python3",
      "display_name": "Python 3"
    },
    "language_info": {
      "name": "python"
    }
  },
  "cells": [
    {
      "cell_type": "markdown",
      "source": [
        "# **Contoh**"
      ],
      "metadata": {
        "id": "eE21r8v68JnI"
      }
    },
    {
      "cell_type": "code",
      "source": [
        "num = 5\n",
        "\n",
        "if num > 0:\n",
        "    print(\"The number is positive.\")\n",
        "else:\n",
        "    if num < 0:\n",
        "        print(\"The number is negative.\")\n",
        "    else:\n",
        "        print(\"The number is zero.\")"
      ],
      "metadata": {
        "colab": {
          "base_uri": "https://localhost:8080/"
        },
        "id": "E5V6n_wW8M3d",
        "outputId": "f063c7a6-fca2-4f44-c36f-26c0f6ed40e9"
      },
      "execution_count": null,
      "outputs": [
        {
          "output_type": "stream",
          "name": "stdout",
          "text": [
            "The number is positive.\n"
          ]
        }
      ]
    },
    {
      "cell_type": "code",
      "source": [
        "age = 35\n",
        "\n",
        "if age >= 60:\n",
        "    print(\"You are a senior citizen.\")\n",
        "else:\n",
        "    if age >= 18:\n",
        "        print(\"You are an adult.\")\n",
        "    else:\n",
        "        print(\"You are a teenager.\")"
      ],
      "metadata": {
        "colab": {
          "base_uri": "https://localhost:8080/"
        },
        "id": "QQgNCh1x8X1M",
        "outputId": "03f0c7dc-9eae-4ef2-c3ae-b9b042f49797"
      },
      "execution_count": null,
      "outputs": [
        {
          "output_type": "stream",
          "name": "stdout",
          "text": [
            "You are an adult.\n"
          ]
        }
      ]
    },
    {
      "cell_type": "code",
      "source": [
        "username = input(\"Masukkan username: \")\n",
        "password = input(\"Masukkan password: \")\n",
        "\n",
        "if username == \"admin\" :\n",
        "  if password == \"password\":\n",
        "    print(\"Berhasil login sebagai admin.\")\n",
        "  elif password == \"12345\":\n",
        "    print(\"Anda perlu mengubah password karena kata sandi lemah.\")\n",
        "  else:\n",
        "    print(\"Password salah.\")\n",
        "else:\n",
        "  if username == \"guest\" :\n",
        "    if password == \"guest\":\n",
        "      print(\"Berhasil login sebagai guest.\")\n",
        "    else:\n",
        "      print(\"Pasword salah\")\n",
        "  else:\n",
        "      print(\"Username atau password salah.\")"
      ],
      "metadata": {
        "colab": {
          "base_uri": "https://localhost:8080/"
        },
        "id": "S8nYM9us80cs",
        "outputId": "10290c8e-e90d-4eff-b364-c85111e3bf63"
      },
      "execution_count": null,
      "outputs": [
        {
          "output_type": "stream",
          "name": "stdout",
          "text": [
            "Masukkan username: admin\n",
            "Masukkan password: 1234\n",
            "Password salah.\n"
          ]
        }
      ]
    },
    {
      "cell_type": "code",
      "source": [
        "while True:\n",
        "  try:\n",
        "    angka = float(input(\"Masukkan sebuah angka: \"))\n",
        "    if angka.is_integer():\n",
        "      angka = int(angka)\n",
        "      break\n",
        "    else:\n",
        "      print(\"Angka yang dimasukkan bukan bilangan bulat.\")\n",
        "      break\n",
        "  except ValueError:\n",
        "    print(\"Input tidak valid. Masukkan angka.\")\n",
        "if angka % 2 == 0:\n",
        "  print(\"Angka yang dimasukkan merupakan bilangan genap.\")\n",
        "else:\n",
        "  print(\"Angka yang dimasukkan merupakan bilangan ganjil.\")"
      ],
      "metadata": {
        "colab": {
          "base_uri": "https://localhost:8080/"
        },
        "id": "1E5rDl6lDjlb",
        "outputId": "c67b3c3a-2ddb-44c2-990c-2707147dd925"
      },
      "execution_count": null,
      "outputs": [
        {
          "output_type": "stream",
          "name": "stdout",
          "text": [
            "Masukkan sebuah angka: 1996\n",
            "Angka yang dimasukkan merupakan bilangan genap.\n"
          ]
        }
      ]
    },
    {
      "cell_type": "markdown",
      "source": [
        "# **Weekly Exercise 1**"
      ],
      "metadata": {
        "id": "6QhSBYg8EPYG"
      }
    },
    {
      "cell_type": "code",
      "source": [
        "Tahun = int(input(\"Masukkan tahun: \"))\n",
        "if Tahun % 4 == 0:\n",
        "  print(f\"{Tahun} merupakan tahun kabisat.\")\n",
        "  if Tahun % 100 == 0:\n",
        "    print(f\"{Tahun} merupakan tahun kabisat.\")\n",
        "else:\n",
        "  print(f\"{Tahun} bukanlah tahun kabisat.\")"
      ],
      "metadata": {
        "colab": {
          "base_uri": "https://localhost:8080/"
        },
        "id": "My0uZ8ptE1CV",
        "outputId": "123e0a54-ea2c-4a70-b7cd-b62f10677fd2"
      },
      "execution_count": 3,
      "outputs": [
        {
          "output_type": "stream",
          "name": "stdout",
          "text": [
            "Masukkan tahun: 2024\n",
            "2024 merupakan tahun kabisat.\n"
          ]
        }
      ]
    },
    {
      "cell_type": "markdown",
      "source": [
        "# **Weekly Exercise 2**"
      ],
      "metadata": {
        "id": "P-6m37z1FzTF"
      }
    },
    {
      "cell_type": "code",
      "source": [
        "angka1 = int(input(\"Masukkan angka pertama: \"))\n",
        "angka2 = int(input(\"Masukkan angka kedua: \"))\n",
        "angka3 = int(input(\"Masukkan angka ketiga: \"))\n",
        "\n",
        "if angka1 > angka2 and angka1 > angka3:\n",
        "  print(f\"{angka1} adalah angka terbesar.\")\n",
        "elif angka2 > angka1 and angka2 > angka3:\n",
        "  print(f\"{angka2} adalah angka terbesar.\")\n",
        "else:\n",
        "  print(f\"{angka3} adalah angka terbesar.\")"
      ],
      "metadata": {
        "id": "C3rnE6OBHRyf",
        "colab": {
          "base_uri": "https://localhost:8080/"
        },
        "outputId": "7a5b1f99-64d1-4070-f1de-a77d673adbb5"
      },
      "execution_count": null,
      "outputs": [
        {
          "output_type": "stream",
          "name": "stdout",
          "text": [
            "Masukkan angka pertama: 1\n",
            "Masukkan angka kedua: 2\n",
            "Masukkan angka ketiga: 3\n",
            "3 adalah angka terbesar.\n"
          ]
        }
      ]
    },
    {
      "cell_type": "markdown",
      "source": [
        "# **Weekly Exercise 3**"
      ],
      "metadata": {
        "id": "VXQD-TEn49MG"
      }
    },
    {
      "cell_type": "code",
      "source": [
        "total_belanja = int(input(\"Masukkan total belanja: \"))\n",
        "member = input(\"Apakah Anda member? (ya/tidak): \")\n",
        "if total_belanja >= 100000:\n",
        "  if total_belanja >= 200000:\n",
        "    diskon = 4\n",
        "  else:\n",
        "    diskon = 3\n",
        "  if member == \"ya\":\n",
        "    diskon += 2\n",
        "else:\n",
        "  if member:\n",
        "    diskon = 2\n",
        "jumlah_diskon = total_belanja * diskon / 100\n",
        "total_bayar = total_belanja - jumlah_diskon\n",
        "print(f\"Jumlah diskon yang didapatkan: {jumlah_diskon}\")\n",
        "print(f\"Total yang harus dibayar: {total_bayar}\")"
      ],
      "metadata": {
        "colab": {
          "base_uri": "https://localhost:8080/"
        },
        "id": "vWMq1Ub-5DNn",
        "outputId": "d641f532-4da3-4b62-9dba-72db8ecc8fe6"
      },
      "execution_count": 5,
      "outputs": [
        {
          "output_type": "stream",
          "name": "stdout",
          "text": [
            "Masukkan total belanja: 221000\n",
            "Apakah Anda member? (ya/tidak): ya\n",
            "Jumlah diskon yang didapatkan: 13260.0\n",
            "Total yang harus dibayar: 207740.0\n"
          ]
        }
      ]
    },
    {
      "cell_type": "markdown",
      "source": [
        "# **Wekkly Exercise 4**"
      ],
      "metadata": {
        "id": "kxzsPuU7YcZN"
      }
    },
    {
      "cell_type": "code",
      "source": [
        "username = input(\"Masukkan username: \")\n",
        "email = input(\"Masukkan email: \")\n",
        "password = input(\"Masukkan password: \")\n",
        "if not username :\n",
        "  print(\"Username tidak boleh kosong.\")\n",
        "elif \"@\" not in email :\n",
        "  print(\"Email tidak boleh kosong.\")\n",
        "elif len(password) < 8 :\n",
        "  print(\"Password tidak boleh kurang dari 8 karakter.\")\n",
        "else:\n",
        "  print(\"cieee akhirnya bisa login kiw\")"
      ],
      "metadata": {
        "colab": {
          "base_uri": "https://localhost:8080/"
        },
        "id": "oLtcGIhtV58t",
        "outputId": "60af796f-a70f-4cf8-8cd5-4aa36f102d7a"
      },
      "execution_count": 13,
      "outputs": [
        {
          "output_type": "stream",
          "name": "stdout",
          "text": [
            "Masukkan username: 1\n",
            "Masukkan email: @\n",
            "Masukkan password: 1\n",
            "Password tidak boleh kurang dari 8 karakter.\n"
          ]
        }
      ]
    }
  ]
}